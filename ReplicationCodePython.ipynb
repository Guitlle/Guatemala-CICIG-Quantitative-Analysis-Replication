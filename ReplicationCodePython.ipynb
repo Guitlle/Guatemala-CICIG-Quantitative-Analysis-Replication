{
 "cells": [
  {
   "cell_type": "markdown",
   "metadata": {},
   "source": [
    "# Difference in difference analysis to estimate impact of CICIG on Guatemala's homicide rates\n",
    "\n"
   ]
  },
  {
   "cell_type": "code",
   "execution_count": 124,
   "metadata": {
    "collapsed": true,
    "deletable": true,
    "editable": true
   },
   "outputs": [],
   "source": [
    "import pandas as pd\n",
    "import matplotlib as mlp\n",
    "from matplotlib import pyplot as plt\n",
    "import numpy as np \n",
    "import seaborn as sbs\n",
    "from statsmodels import api as stm\n",
    "sbs.set(style=\"whitegrid\")\n",
    "%matplotlib inline"
   ]
  },
  {
   "cell_type": "code",
   "execution_count": 2,
   "metadata": {
    "collapsed": true,
    "deletable": true,
    "editable": true
   },
   "outputs": [],
   "source": [
    "def tryFunc(functionToTry, onError = np.NaN, showErrors = False):\n",
    "    def wrapper(inputValue):\n",
    "        try:\n",
    "            return functionToTry(inputValue)\n",
    "        except:\n",
    "            if showErrors:\n",
    "                print(\"Bad value: \", inputValue)\n",
    "            return onError\n",
    "    return wrapper\n",
    "\n",
    "toFloat = lambda x: float(x)"
   ]
  },
  {
   "cell_type": "code",
   "execution_count": 3,
   "metadata": {
    "collapsed": true,
    "deletable": true,
    "editable": true
   },
   "outputs": [],
   "source": [
    "gt1 = pd.read_excel(\"./guatemala1.xlsx\")"
   ]
  },
  {
   "cell_type": "code",
   "execution_count": 4,
   "metadata": {
    "collapsed": false,
    "deletable": true,
    "editable": true
   },
   "outputs": [
    {
     "data": {
      "text/html": [
       "<div>\n",
       "<style scoped>\n",
       "    .dataframe tbody tr th:only-of-type {\n",
       "        vertical-align: middle;\n",
       "    }\n",
       "\n",
       "    .dataframe tbody tr th {\n",
       "        vertical-align: top;\n",
       "    }\n",
       "\n",
       "    .dataframe thead th {\n",
       "        text-align: right;\n",
       "    }\n",
       "</style>\n",
       "<table border=\"1\" class=\"dataframe\">\n",
       "  <thead>\n",
       "    <tr style=\"text-align: right;\">\n",
       "      <th></th>\n",
       "      <th>Series Name</th>\n",
       "      <th>Series Code</th>\n",
       "      <th>Country Name</th>\n",
       "      <th>Country Code</th>\n",
       "      <th>YR1990</th>\n",
       "      <th>YR2000</th>\n",
       "      <th>YR2001</th>\n",
       "      <th>YR2002</th>\n",
       "      <th>YR2003</th>\n",
       "      <th>YR2004</th>\n",
       "      <th>...</th>\n",
       "      <th>YR2008</th>\n",
       "      <th>YR2009</th>\n",
       "      <th>YR2010</th>\n",
       "      <th>YR2011</th>\n",
       "      <th>YR2012</th>\n",
       "      <th>YR2013</th>\n",
       "      <th>YR2014</th>\n",
       "      <th>YR2015</th>\n",
       "      <th>YR2016</th>\n",
       "      <th>YR2017</th>\n",
       "    </tr>\n",
       "  </thead>\n",
       "  <tbody>\n",
       "    <tr>\n",
       "      <th>0</th>\n",
       "      <td>homicide</td>\n",
       "      <td>VC.IHR.PSRC.P5</td>\n",
       "      <td>Costa Rica</td>\n",
       "      <td>CRI</td>\n",
       "      <td>..</td>\n",
       "      <td>6.3</td>\n",
       "      <td>6.4</td>\n",
       "      <td>6.3</td>\n",
       "      <td>7.3</td>\n",
       "      <td>6.7</td>\n",
       "      <td>...</td>\n",
       "      <td>11.6</td>\n",
       "      <td>11.7</td>\n",
       "      <td>11.6</td>\n",
       "      <td>10.3</td>\n",
       "      <td>8.7</td>\n",
       "      <td>8.7</td>\n",
       "      <td>10</td>\n",
       "      <td>11.8</td>\n",
       "      <td>..</td>\n",
       "      <td>..</td>\n",
       "    </tr>\n",
       "    <tr>\n",
       "      <th>1</th>\n",
       "      <td>homicide</td>\n",
       "      <td>VC.IHR.PSRC.P5</td>\n",
       "      <td>Cuba</td>\n",
       "      <td>CUB</td>\n",
       "      <td>..</td>\n",
       "      <td>..</td>\n",
       "      <td>5.4</td>\n",
       "      <td>5.9</td>\n",
       "      <td>5.7</td>\n",
       "      <td>5.9</td>\n",
       "      <td>...</td>\n",
       "      <td>4.6</td>\n",
       "      <td>5</td>\n",
       "      <td>4.5</td>\n",
       "      <td>4.7</td>\n",
       "      <td>..</td>\n",
       "      <td>..</td>\n",
       "      <td>..</td>\n",
       "      <td>..</td>\n",
       "      <td>..</td>\n",
       "      <td>..</td>\n",
       "    </tr>\n",
       "    <tr>\n",
       "      <th>2</th>\n",
       "      <td>homicide</td>\n",
       "      <td>VC.IHR.PSRC.P5</td>\n",
       "      <td>El Salvador</td>\n",
       "      <td>SLV</td>\n",
       "      <td>..</td>\n",
       "      <td>40.3</td>\n",
       "      <td>37.8</td>\n",
       "      <td>37.9</td>\n",
       "      <td>37.2</td>\n",
       "      <td>46.8</td>\n",
       "      <td>...</td>\n",
       "      <td>52.9</td>\n",
       "      <td>72.8</td>\n",
       "      <td>66</td>\n",
       "      <td>72.2</td>\n",
       "      <td>42.7</td>\n",
       "      <td>41.3</td>\n",
       "      <td>64.2</td>\n",
       "      <td>108.6</td>\n",
       "      <td>..</td>\n",
       "      <td>..</td>\n",
       "    </tr>\n",
       "  </tbody>\n",
       "</table>\n",
       "<p>3 rows × 23 columns</p>\n",
       "</div>"
      ],
      "text/plain": [
       "  Series Name     Series Code Country Name Country Code YR1990 YR2000 YR2001  \\\n",
       "0    homicide  VC.IHR.PSRC.P5   Costa Rica          CRI     ..    6.3    6.4   \n",
       "1    homicide  VC.IHR.PSRC.P5         Cuba          CUB     ..     ..    5.4   \n",
       "2    homicide  VC.IHR.PSRC.P5  El Salvador          SLV     ..   40.3   37.8   \n",
       "\n",
       "  YR2002 YR2003 YR2004  ...   YR2008 YR2009 YR2010 YR2011 YR2012 YR2013  \\\n",
       "0    6.3    7.3    6.7  ...     11.6   11.7   11.6   10.3    8.7    8.7   \n",
       "1    5.9    5.7    5.9  ...      4.6      5    4.5    4.7     ..     ..   \n",
       "2   37.9   37.2   46.8  ...     52.9   72.8     66   72.2   42.7   41.3   \n",
       "\n",
       "  YR2014 YR2015 YR2016 YR2017  \n",
       "0     10   11.8     ..     ..  \n",
       "1     ..     ..     ..     ..  \n",
       "2   64.2  108.6     ..     ..  \n",
       "\n",
       "[3 rows x 23 columns]"
      ]
     },
     "execution_count": 4,
     "metadata": {},
     "output_type": "execute_result"
    }
   ],
   "source": [
    "gt1.head(3)"
   ]
  },
  {
   "cell_type": "code",
   "execution_count": 5,
   "metadata": {
    "collapsed": true,
    "deletable": true,
    "editable": true
   },
   "outputs": [],
   "source": [
    "gtpop = pd.read_excel(\"./gtm_pop.xlsx\")"
   ]
  },
  {
   "cell_type": "code",
   "execution_count": 6,
   "metadata": {
    "collapsed": false,
    "deletable": true,
    "editable": true
   },
   "outputs": [
    {
     "data": {
      "text/html": [
       "<div>\n",
       "<style scoped>\n",
       "    .dataframe tbody tr th:only-of-type {\n",
       "        vertical-align: middle;\n",
       "    }\n",
       "\n",
       "    .dataframe tbody tr th {\n",
       "        vertical-align: top;\n",
       "    }\n",
       "\n",
       "    .dataframe thead th {\n",
       "        text-align: right;\n",
       "    }\n",
       "</style>\n",
       "<table border=\"1\" class=\"dataframe\">\n",
       "  <thead>\n",
       "    <tr style=\"text-align: right;\">\n",
       "      <th></th>\n",
       "      <th>year</th>\n",
       "      <th>GTM_population</th>\n",
       "      <th>GTM_pop100k</th>\n",
       "    </tr>\n",
       "  </thead>\n",
       "  <tbody>\n",
       "    <tr>\n",
       "      <th>0</th>\n",
       "      <td>2007</td>\n",
       "      <td>13700286</td>\n",
       "      <td>137.00286</td>\n",
       "    </tr>\n",
       "    <tr>\n",
       "      <th>1</th>\n",
       "      <td>2008</td>\n",
       "      <td>14006366</td>\n",
       "      <td>140.06366</td>\n",
       "    </tr>\n",
       "    <tr>\n",
       "      <th>2</th>\n",
       "      <td>2009</td>\n",
       "      <td>14316208</td>\n",
       "      <td>143.16208</td>\n",
       "    </tr>\n",
       "  </tbody>\n",
       "</table>\n",
       "</div>"
      ],
      "text/plain": [
       "   year  GTM_population  GTM_pop100k\n",
       "0  2007        13700286    137.00286\n",
       "1  2008        14006366    140.06366\n",
       "2  2009        14316208    143.16208"
      ]
     },
     "execution_count": 6,
     "metadata": {},
     "output_type": "execute_result"
    }
   ],
   "source": [
    "gtpop.head(3)"
   ]
  },
  {
   "cell_type": "code",
   "execution_count": 7,
   "metadata": {
    "collapsed": true,
    "deletable": true,
    "editable": true
   },
   "outputs": [],
   "source": [
    "gt1 = gt1[gt1[\"Country Code\"].isin([\"CUB\", \"HTI\"]) == False]"
   ]
  },
  {
   "cell_type": "code",
   "execution_count": 8,
   "metadata": {
    "collapsed": false,
    "deletable": true,
    "editable": true
   },
   "outputs": [
    {
     "data": {
      "text/html": [
       "<div>\n",
       "<style scoped>\n",
       "    .dataframe tbody tr th:only-of-type {\n",
       "        vertical-align: middle;\n",
       "    }\n",
       "\n",
       "    .dataframe tbody tr th {\n",
       "        vertical-align: top;\n",
       "    }\n",
       "\n",
       "    .dataframe thead th {\n",
       "        text-align: right;\n",
       "    }\n",
       "</style>\n",
       "<table border=\"1\" class=\"dataframe\">\n",
       "  <thead>\n",
       "    <tr style=\"text-align: right;\">\n",
       "      <th></th>\n",
       "      <th>Series Name</th>\n",
       "      <th>Series Code</th>\n",
       "      <th>Country Name</th>\n",
       "      <th>Country Code</th>\n",
       "      <th>YR1990</th>\n",
       "      <th>YR2000</th>\n",
       "      <th>YR2001</th>\n",
       "      <th>YR2002</th>\n",
       "      <th>YR2003</th>\n",
       "      <th>YR2004</th>\n",
       "      <th>...</th>\n",
       "      <th>YR2008</th>\n",
       "      <th>YR2009</th>\n",
       "      <th>YR2010</th>\n",
       "      <th>YR2011</th>\n",
       "      <th>YR2012</th>\n",
       "      <th>YR2013</th>\n",
       "      <th>YR2014</th>\n",
       "      <th>YR2015</th>\n",
       "      <th>YR2016</th>\n",
       "      <th>YR2017</th>\n",
       "    </tr>\n",
       "  </thead>\n",
       "  <tbody>\n",
       "    <tr>\n",
       "      <th>0</th>\n",
       "      <td>homicide</td>\n",
       "      <td>VC.IHR.PSRC.P5</td>\n",
       "      <td>Costa Rica</td>\n",
       "      <td>CRI</td>\n",
       "      <td>..</td>\n",
       "      <td>6.3</td>\n",
       "      <td>6.4</td>\n",
       "      <td>6.3</td>\n",
       "      <td>7.3</td>\n",
       "      <td>6.7</td>\n",
       "      <td>...</td>\n",
       "      <td>11.6</td>\n",
       "      <td>11.7</td>\n",
       "      <td>11.6</td>\n",
       "      <td>10.3</td>\n",
       "      <td>8.7</td>\n",
       "      <td>8.7</td>\n",
       "      <td>10</td>\n",
       "      <td>11.8</td>\n",
       "      <td>..</td>\n",
       "      <td>..</td>\n",
       "    </tr>\n",
       "    <tr>\n",
       "      <th>2</th>\n",
       "      <td>homicide</td>\n",
       "      <td>VC.IHR.PSRC.P5</td>\n",
       "      <td>El Salvador</td>\n",
       "      <td>SLV</td>\n",
       "      <td>..</td>\n",
       "      <td>40.3</td>\n",
       "      <td>37.8</td>\n",
       "      <td>37.9</td>\n",
       "      <td>37.2</td>\n",
       "      <td>46.8</td>\n",
       "      <td>...</td>\n",
       "      <td>52.9</td>\n",
       "      <td>72.8</td>\n",
       "      <td>66</td>\n",
       "      <td>72.2</td>\n",
       "      <td>42.7</td>\n",
       "      <td>41.3</td>\n",
       "      <td>64.2</td>\n",
       "      <td>108.6</td>\n",
       "      <td>..</td>\n",
       "      <td>..</td>\n",
       "    </tr>\n",
       "    <tr>\n",
       "      <th>3</th>\n",
       "      <td>homicide</td>\n",
       "      <td>VC.IHR.PSRC.P5</td>\n",
       "      <td>Dominican Republic</td>\n",
       "      <td>DOM</td>\n",
       "      <td>..</td>\n",
       "      <td>14.1</td>\n",
       "      <td>12.6</td>\n",
       "      <td>14.5</td>\n",
       "      <td>21.2</td>\n",
       "      <td>24.6</td>\n",
       "      <td>...</td>\n",
       "      <td>24.8</td>\n",
       "      <td>24.3</td>\n",
       "      <td>25</td>\n",
       "      <td>25.1</td>\n",
       "      <td>22.3</td>\n",
       "      <td>..</td>\n",
       "      <td>17.4</td>\n",
       "      <td>..</td>\n",
       "      <td>..</td>\n",
       "      <td>..</td>\n",
       "    </tr>\n",
       "    <tr>\n",
       "      <th>4</th>\n",
       "      <td>homicide</td>\n",
       "      <td>VC.IHR.PSRC.P5</td>\n",
       "      <td>Honduras</td>\n",
       "      <td>HND</td>\n",
       "      <td>..</td>\n",
       "      <td>50.9</td>\n",
       "      <td>54.7</td>\n",
       "      <td>55.7</td>\n",
       "      <td>61.5</td>\n",
       "      <td>53.9</td>\n",
       "      <td>...</td>\n",
       "      <td>61.4</td>\n",
       "      <td>71.5</td>\n",
       "      <td>83.1</td>\n",
       "      <td>93.2</td>\n",
       "      <td>92.7</td>\n",
       "      <td>81.9</td>\n",
       "      <td>74.6</td>\n",
       "      <td>63.8</td>\n",
       "      <td>..</td>\n",
       "      <td>..</td>\n",
       "    </tr>\n",
       "    <tr>\n",
       "      <th>5</th>\n",
       "      <td>homicide</td>\n",
       "      <td>VC.IHR.PSRC.P5</td>\n",
       "      <td>Guatemala</td>\n",
       "      <td>GTM</td>\n",
       "      <td>..</td>\n",
       "      <td>24.8</td>\n",
       "      <td>27</td>\n",
       "      <td>29.6</td>\n",
       "      <td>33.7</td>\n",
       "      <td>35</td>\n",
       "      <td>...</td>\n",
       "      <td>44.6</td>\n",
       "      <td>45.1</td>\n",
       "      <td>40.5</td>\n",
       "      <td>37.7</td>\n",
       "      <td>33.5</td>\n",
       "      <td>33.5</td>\n",
       "      <td>31.2</td>\n",
       "      <td>..</td>\n",
       "      <td>..</td>\n",
       "      <td>..</td>\n",
       "    </tr>\n",
       "  </tbody>\n",
       "</table>\n",
       "<p>5 rows × 23 columns</p>\n",
       "</div>"
      ],
      "text/plain": [
       "  Series Name     Series Code        Country Name Country Code YR1990 YR2000  \\\n",
       "0    homicide  VC.IHR.PSRC.P5          Costa Rica          CRI     ..    6.3   \n",
       "2    homicide  VC.IHR.PSRC.P5         El Salvador          SLV     ..   40.3   \n",
       "3    homicide  VC.IHR.PSRC.P5  Dominican Republic          DOM     ..   14.1   \n",
       "4    homicide  VC.IHR.PSRC.P5            Honduras          HND     ..   50.9   \n",
       "5    homicide  VC.IHR.PSRC.P5           Guatemala          GTM     ..   24.8   \n",
       "\n",
       "  YR2001 YR2002 YR2003 YR2004  ...   YR2008 YR2009 YR2010 YR2011 YR2012  \\\n",
       "0    6.4    6.3    7.3    6.7  ...     11.6   11.7   11.6   10.3    8.7   \n",
       "2   37.8   37.9   37.2   46.8  ...     52.9   72.8     66   72.2   42.7   \n",
       "3   12.6   14.5   21.2   24.6  ...     24.8   24.3     25   25.1   22.3   \n",
       "4   54.7   55.7   61.5   53.9  ...     61.4   71.5   83.1   93.2   92.7   \n",
       "5     27   29.6   33.7     35  ...     44.6   45.1   40.5   37.7   33.5   \n",
       "\n",
       "  YR2013 YR2014 YR2015 YR2016 YR2017  \n",
       "0    8.7     10   11.8     ..     ..  \n",
       "2   41.3   64.2  108.6     ..     ..  \n",
       "3     ..   17.4     ..     ..     ..  \n",
       "4   81.9   74.6   63.8     ..     ..  \n",
       "5   33.5   31.2     ..     ..     ..  \n",
       "\n",
       "[5 rows x 23 columns]"
      ]
     },
     "execution_count": 8,
     "metadata": {},
     "output_type": "execute_result"
    }
   ],
   "source": [
    "gt1.head()"
   ]
  },
  {
   "cell_type": "code",
   "execution_count": 9,
   "metadata": {
    "collapsed": false,
    "deletable": true,
    "editable": true
   },
   "outputs": [
    {
     "data": {
      "text/plain": [
       "CPIA_public_sector                10\n",
       "under5_mortality_rate             10\n",
       "homicide                          10\n",
       "poverty_headcount_320             10\n",
       "gdp_per_capita_ppp_2011           10\n",
       "household_consumption             10\n",
       "CPIA_accountability_corruption    10\n",
       "youth_literacy_rate               10\n",
       "adult_literacy_rate               10\n",
       "Name: Series Name, dtype: int64"
      ]
     },
     "execution_count": 9,
     "metadata": {},
     "output_type": "execute_result"
    }
   ],
   "source": [
    "gt1[\"Series Name\"].value_counts()"
   ]
  },
  {
   "cell_type": "code",
   "execution_count": 10,
   "metadata": {
    "collapsed": true,
    "deletable": true,
    "editable": true
   },
   "outputs": [],
   "source": [
    "cols = gt1.columns[gt1.columns.map(lambda x: x.startswith(\"YR\")) == True]\n",
    "gt2 = gt1.set_index([\"Country Code\", \"Series Name\"])[cols].stack().map(tryFunc(toFloat)).unstack(1).rename(index=lambda x: int(x[2:6]) if str.startswith(x, \"YR\") else x)"
   ]
  },
  {
   "cell_type": "code",
   "execution_count": 11,
   "metadata": {
    "collapsed": false,
    "deletable": true,
    "editable": true
   },
   "outputs": [
    {
     "data": {
      "text/html": [
       "<div>\n",
       "<style scoped>\n",
       "    .dataframe tbody tr th:only-of-type {\n",
       "        vertical-align: middle;\n",
       "    }\n",
       "\n",
       "    .dataframe tbody tr th {\n",
       "        vertical-align: top;\n",
       "    }\n",
       "\n",
       "    .dataframe thead th {\n",
       "        text-align: right;\n",
       "    }\n",
       "</style>\n",
       "<table border=\"1\" class=\"dataframe\">\n",
       "  <thead>\n",
       "    <tr style=\"text-align: right;\">\n",
       "      <th>Series Name</th>\n",
       "      <th>Country Code</th>\n",
       "      <th>level_1</th>\n",
       "      <th>CPIA_accountability_corruption</th>\n",
       "      <th>CPIA_public_sector</th>\n",
       "      <th>adult_literacy_rate</th>\n",
       "      <th>gdp_per_capita_ppp_2011</th>\n",
       "      <th>homicide</th>\n",
       "      <th>household_consumption</th>\n",
       "      <th>poverty_headcount_320</th>\n",
       "      <th>under5_mortality_rate</th>\n",
       "      <th>youth_literacy_rate</th>\n",
       "    </tr>\n",
       "  </thead>\n",
       "  <tbody>\n",
       "    <tr>\n",
       "      <th>0</th>\n",
       "      <td>COL</td>\n",
       "      <td>1990</td>\n",
       "      <td>NaN</td>\n",
       "      <td>NaN</td>\n",
       "      <td>NaN</td>\n",
       "      <td>7533.518385</td>\n",
       "      <td>NaN</td>\n",
       "      <td>2894.417281</td>\n",
       "      <td>NaN</td>\n",
       "      <td>35.1</td>\n",
       "      <td>NaN</td>\n",
       "    </tr>\n",
       "    <tr>\n",
       "      <th>1</th>\n",
       "      <td>COL</td>\n",
       "      <td>2000</td>\n",
       "      <td>NaN</td>\n",
       "      <td>NaN</td>\n",
       "      <td>NaN</td>\n",
       "      <td>8308.222950</td>\n",
       "      <td>65.7</td>\n",
       "      <td>3101.881202</td>\n",
       "      <td>28.8</td>\n",
       "      <td>25.0</td>\n",
       "      <td>NaN</td>\n",
       "    </tr>\n",
       "    <tr>\n",
       "      <th>2</th>\n",
       "      <td>COL</td>\n",
       "      <td>2001</td>\n",
       "      <td>NaN</td>\n",
       "      <td>NaN</td>\n",
       "      <td>NaN</td>\n",
       "      <td>8327.070759</td>\n",
       "      <td>67.9</td>\n",
       "      <td>3105.015716</td>\n",
       "      <td>38.2</td>\n",
       "      <td>24.3</td>\n",
       "      <td>NaN</td>\n",
       "    </tr>\n",
       "    <tr>\n",
       "      <th>3</th>\n",
       "      <td>COL</td>\n",
       "      <td>2002</td>\n",
       "      <td>NaN</td>\n",
       "      <td>NaN</td>\n",
       "      <td>NaN</td>\n",
       "      <td>8415.759119</td>\n",
       "      <td>68.3</td>\n",
       "      <td>3122.136969</td>\n",
       "      <td>29.8</td>\n",
       "      <td>23.6</td>\n",
       "      <td>NaN</td>\n",
       "    </tr>\n",
       "    <tr>\n",
       "      <th>4</th>\n",
       "      <td>COL</td>\n",
       "      <td>2003</td>\n",
       "      <td>NaN</td>\n",
       "      <td>NaN</td>\n",
       "      <td>NaN</td>\n",
       "      <td>8625.246570</td>\n",
       "      <td>53.4</td>\n",
       "      <td>3170.331340</td>\n",
       "      <td>27.7</td>\n",
       "      <td>22.9</td>\n",
       "      <td>NaN</td>\n",
       "    </tr>\n",
       "  </tbody>\n",
       "</table>\n",
       "</div>"
      ],
      "text/plain": [
       "Series Name Country Code  level_1  CPIA_accountability_corruption  \\\n",
       "0                    COL     1990                             NaN   \n",
       "1                    COL     2000                             NaN   \n",
       "2                    COL     2001                             NaN   \n",
       "3                    COL     2002                             NaN   \n",
       "4                    COL     2003                             NaN   \n",
       "\n",
       "Series Name  CPIA_public_sector  adult_literacy_rate  gdp_per_capita_ppp_2011  \\\n",
       "0                           NaN                  NaN              7533.518385   \n",
       "1                           NaN                  NaN              8308.222950   \n",
       "2                           NaN                  NaN              8327.070759   \n",
       "3                           NaN                  NaN              8415.759119   \n",
       "4                           NaN                  NaN              8625.246570   \n",
       "\n",
       "Series Name  homicide  household_consumption  poverty_headcount_320  \\\n",
       "0                 NaN            2894.417281                    NaN   \n",
       "1                65.7            3101.881202                   28.8   \n",
       "2                67.9            3105.015716                   38.2   \n",
       "3                68.3            3122.136969                   29.8   \n",
       "4                53.4            3170.331340                   27.7   \n",
       "\n",
       "Series Name  under5_mortality_rate  youth_literacy_rate  \n",
       "0                             35.1                  NaN  \n",
       "1                             25.0                  NaN  \n",
       "2                             24.3                  NaN  \n",
       "3                             23.6                  NaN  \n",
       "4                             22.9                  NaN  "
      ]
     },
     "execution_count": 11,
     "metadata": {},
     "output_type": "execute_result"
    }
   ],
   "source": [
    "gt2.head().reset_index()"
   ]
  },
  {
   "cell_type": "code",
   "execution_count": 12,
   "metadata": {
    "collapsed": false,
    "deletable": true,
    "editable": true
   },
   "outputs": [
    {
     "data": {
      "text/html": [
       "<div>\n",
       "<style scoped>\n",
       "    .dataframe tbody tr th:only-of-type {\n",
       "        vertical-align: middle;\n",
       "    }\n",
       "\n",
       "    .dataframe tbody tr th {\n",
       "        vertical-align: top;\n",
       "    }\n",
       "\n",
       "    .dataframe thead th {\n",
       "        text-align: right;\n",
       "    }\n",
       "</style>\n",
       "<table border=\"1\" class=\"dataframe\">\n",
       "  <thead>\n",
       "    <tr style=\"text-align: right;\">\n",
       "      <th>Series Name</th>\n",
       "      <th>adult_literacy_rate</th>\n",
       "      <th>gdp_per_capita_ppp_2011</th>\n",
       "      <th>homicide</th>\n",
       "      <th>household_consumption</th>\n",
       "      <th>poverty_headcount_320</th>\n",
       "      <th>under5_mortality_rate</th>\n",
       "      <th>youth_literacy_rate</th>\n",
       "    </tr>\n",
       "  </thead>\n",
       "  <tbody>\n",
       "    <tr>\n",
       "      <th>count</th>\n",
       "      <td>20.000000</td>\n",
       "      <td>80.000000</td>\n",
       "      <td>69.000000</td>\n",
       "      <td>79.000000</td>\n",
       "      <td>56.000000</td>\n",
       "      <td>80.00000</td>\n",
       "      <td>20.000000</td>\n",
       "    </tr>\n",
       "    <tr>\n",
       "      <th>mean</th>\n",
       "      <td>87.666931</td>\n",
       "      <td>8599.024509</td>\n",
       "      <td>28.108696</td>\n",
       "      <td>3245.349387</td>\n",
       "      <td>24.321429</td>\n",
       "      <td>30.63875</td>\n",
       "      <td>94.577347</td>\n",
       "    </tr>\n",
       "    <tr>\n",
       "      <th>std</th>\n",
       "      <td>6.772482</td>\n",
       "      <td>3851.423356</td>\n",
       "      <td>19.192383</td>\n",
       "      <td>1502.428044</td>\n",
       "      <td>10.644806</td>\n",
       "      <td>13.38700</td>\n",
       "      <td>4.636641</td>\n",
       "    </tr>\n",
       "    <tr>\n",
       "      <th>min</th>\n",
       "      <td>69.101730</td>\n",
       "      <td>3003.519024</td>\n",
       "      <td>6.300000</td>\n",
       "      <td>1102.633868</td>\n",
       "      <td>9.900000</td>\n",
       "      <td>10.30000</td>\n",
       "      <td>82.220260</td>\n",
       "    </tr>\n",
       "    <tr>\n",
       "      <th>25%</th>\n",
       "      <td>86.137218</td>\n",
       "      <td>6070.409423</td>\n",
       "      <td>10.400000</td>\n",
       "      <td>2175.455903</td>\n",
       "      <td>16.525000</td>\n",
       "      <td>22.07500</td>\n",
       "      <td>94.767635</td>\n",
       "    </tr>\n",
       "    <tr>\n",
       "      <th>50%</th>\n",
       "      <td>90.405135</td>\n",
       "      <td>8238.534249</td>\n",
       "      <td>24.800000</td>\n",
       "      <td>3105.015716</td>\n",
       "      <td>23.150000</td>\n",
       "      <td>27.80000</td>\n",
       "      <td>96.346065</td>\n",
       "    </tr>\n",
       "    <tr>\n",
       "      <th>75%</th>\n",
       "      <td>91.999635</td>\n",
       "      <td>11090.964672</td>\n",
       "      <td>43.600000</td>\n",
       "      <td>4265.429084</td>\n",
       "      <td>28.500000</td>\n",
       "      <td>37.32500</td>\n",
       "      <td>97.619985</td>\n",
       "    </tr>\n",
       "    <tr>\n",
       "      <th>max</th>\n",
       "      <td>94.868190</td>\n",
       "      <td>16149.480338</td>\n",
       "      <td>68.300000</td>\n",
       "      <td>6815.420781</td>\n",
       "      <td>64.300000</td>\n",
       "      <td>81.80000</td>\n",
       "      <td>97.991310</td>\n",
       "    </tr>\n",
       "  </tbody>\n",
       "</table>\n",
       "</div>"
      ],
      "text/plain": [
       "Series Name  adult_literacy_rate  gdp_per_capita_ppp_2011   homicide  \\\n",
       "count                  20.000000                80.000000  69.000000   \n",
       "mean                   87.666931              8599.024509  28.108696   \n",
       "std                     6.772482              3851.423356  19.192383   \n",
       "min                    69.101730              3003.519024   6.300000   \n",
       "25%                    86.137218              6070.409423  10.400000   \n",
       "50%                    90.405135              8238.534249  24.800000   \n",
       "75%                    91.999635             11090.964672  43.600000   \n",
       "max                    94.868190             16149.480338  68.300000   \n",
       "\n",
       "Series Name  household_consumption  poverty_headcount_320  \\\n",
       "count                    79.000000              56.000000   \n",
       "mean                   3245.349387              24.321429   \n",
       "std                    1502.428044              10.644806   \n",
       "min                    1102.633868               9.900000   \n",
       "25%                    2175.455903              16.525000   \n",
       "50%                    3105.015716              23.150000   \n",
       "75%                    4265.429084              28.500000   \n",
       "max                    6815.420781              64.300000   \n",
       "\n",
       "Series Name  under5_mortality_rate  youth_literacy_rate  \n",
       "count                     80.00000            20.000000  \n",
       "mean                      30.63875            94.577347  \n",
       "std                       13.38700             4.636641  \n",
       "min                       10.30000            82.220260  \n",
       "25%                       22.07500            94.767635  \n",
       "50%                       27.80000            96.346065  \n",
       "75%                       37.32500            97.619985  \n",
       "max                       81.80000            97.991310  "
      ]
     },
     "execution_count": 12,
     "metadata": {},
     "output_type": "execute_result"
    }
   ],
   "source": [
    "# This gives the same that stata\n",
    "del gt2[\"CPIA_accountability_corruption\"]\n",
    "del gt2[\"CPIA_public_sector\"]\n",
    "gt2[gt2.index.get_level_values(1) < 2007].describe()"
   ]
  },
  {
   "cell_type": "code",
   "execution_count": 13,
   "metadata": {
    "collapsed": false,
    "deletable": true,
    "editable": true
   },
   "outputs": [
    {
     "name": "stderr",
     "output_type": "stream",
     "text": [
      "C:\\Anaconda3\\lib\\site-packages\\ipykernel_launcher.py:6: FutureWarning: `rcond` parameter will change to the default of machine precision times ``max(M, N)`` where M and N are the input matrix dimensions.\n",
      "To use the future default and silence this warning we advise to pass `rcond=None`, to keep using the old, explicitly pass `rcond=-1`.\n",
      "  \n"
     ]
    }
   ],
   "source": [
    "cols = [\"gdp_per_capita_ppp_2011\", \"homicide\", \"household_consumption\", \"poverty_headcount_320\"]\n",
    "gt2[\"intercept\"] = 1\n",
    "def trends(df):\n",
    "    results = []\n",
    "    for col in cols:\n",
    "        results.append(np.linalg.lstsq(df[df[col].isna() == False].reset_index()[[\"intercept\", \"level_1\"]], df[df[col].isna() == False][col])[0][1])\n",
    "    return pd.Series(index = cols, data = results)\n",
    "trends = gt2[(gt2.index.get_level_values(1) < 2007 )].groupby(\"Country Code\").apply(trends)"
   ]
  },
  {
   "cell_type": "code",
   "execution_count": 14,
   "metadata": {
    "collapsed": false,
    "deletable": true,
    "editable": true
   },
   "outputs": [
    {
     "data": {
      "text/html": [
       "<div>\n",
       "<style scoped>\n",
       "    .dataframe tbody tr th:only-of-type {\n",
       "        vertical-align: middle;\n",
       "    }\n",
       "\n",
       "    .dataframe tbody tr th {\n",
       "        vertical-align: top;\n",
       "    }\n",
       "\n",
       "    .dataframe thead th {\n",
       "        text-align: right;\n",
       "    }\n",
       "</style>\n",
       "<table border=\"1\" class=\"dataframe\">\n",
       "  <thead>\n",
       "    <tr style=\"text-align: right;\">\n",
       "      <th></th>\n",
       "      <th>gdp_per_capita_ppp_2011</th>\n",
       "      <th>homicide</th>\n",
       "      <th>household_consumption</th>\n",
       "      <th>poverty_headcount_320</th>\n",
       "    </tr>\n",
       "    <tr>\n",
       "      <th>Country Code</th>\n",
       "      <th></th>\n",
       "      <th></th>\n",
       "      <th></th>\n",
       "      <th></th>\n",
       "    </tr>\n",
       "  </thead>\n",
       "  <tbody>\n",
       "    <tr>\n",
       "      <th>COL</th>\n",
       "      <td>121.033285</td>\n",
       "      <td>-5.971429</td>\n",
       "      <td>31.783762</td>\n",
       "      <td>-1.597143</td>\n",
       "    </tr>\n",
       "    <tr>\n",
       "      <th>CRI</th>\n",
       "      <td>225.242755</td>\n",
       "      <td>0.314286</td>\n",
       "      <td>72.978773</td>\n",
       "      <td>-0.589339</td>\n",
       "    </tr>\n",
       "    <tr>\n",
       "      <th>DOM</th>\n",
       "      <td>239.545720</td>\n",
       "      <td>2.253571</td>\n",
       "      <td>83.524545</td>\n",
       "      <td>0.753571</td>\n",
       "    </tr>\n",
       "    <tr>\n",
       "      <th>GTM</th>\n",
       "      <td>80.325020</td>\n",
       "      <td>3.101429</td>\n",
       "      <td>34.219756</td>\n",
       "      <td>0.216667</td>\n",
       "    </tr>\n",
       "    <tr>\n",
       "      <th>HND</th>\n",
       "      <td>36.268825</td>\n",
       "      <td>-1.321429</td>\n",
       "      <td>14.579777</td>\n",
       "      <td>-1.480016</td>\n",
       "    </tr>\n",
       "    <tr>\n",
       "      <th>MEX</th>\n",
       "      <td>178.282345</td>\n",
       "      <td>-0.207143</td>\n",
       "      <td>116.731212</td>\n",
       "      <td>-2.510000</td>\n",
       "    </tr>\n",
       "    <tr>\n",
       "      <th>NIC</th>\n",
       "      <td>50.276370</td>\n",
       "      <td>0.671429</td>\n",
       "      <td>19.355949</td>\n",
       "      <td>-2.625000</td>\n",
       "    </tr>\n",
       "    <tr>\n",
       "      <th>PAN</th>\n",
       "      <td>272.126317</td>\n",
       "      <td>0.100000</td>\n",
       "      <td>105.051787</td>\n",
       "      <td>-0.796429</td>\n",
       "    </tr>\n",
       "    <tr>\n",
       "      <th>SLV</th>\n",
       "      <td>161.672645</td>\n",
       "      <td>4.885714</td>\n",
       "      <td>83.784653</td>\n",
       "      <td>-0.903571</td>\n",
       "    </tr>\n",
       "    <tr>\n",
       "      <th>VEN</th>\n",
       "      <td>16.148019</td>\n",
       "      <td>1.650000</td>\n",
       "      <td>32.007304</td>\n",
       "      <td>-1.100000</td>\n",
       "    </tr>\n",
       "  </tbody>\n",
       "</table>\n",
       "</div>"
      ],
      "text/plain": [
       "              gdp_per_capita_ppp_2011  homicide  household_consumption  \\\n",
       "Country Code                                                             \n",
       "COL                        121.033285 -5.971429              31.783762   \n",
       "CRI                        225.242755  0.314286              72.978773   \n",
       "DOM                        239.545720  2.253571              83.524545   \n",
       "GTM                         80.325020  3.101429              34.219756   \n",
       "HND                         36.268825 -1.321429              14.579777   \n",
       "MEX                        178.282345 -0.207143             116.731212   \n",
       "NIC                         50.276370  0.671429              19.355949   \n",
       "PAN                        272.126317  0.100000             105.051787   \n",
       "SLV                        161.672645  4.885714              83.784653   \n",
       "VEN                         16.148019  1.650000              32.007304   \n",
       "\n",
       "              poverty_headcount_320  \n",
       "Country Code                         \n",
       "COL                       -1.597143  \n",
       "CRI                       -0.589339  \n",
       "DOM                        0.753571  \n",
       "GTM                        0.216667  \n",
       "HND                       -1.480016  \n",
       "MEX                       -2.510000  \n",
       "NIC                       -2.625000  \n",
       "PAN                       -0.796429  \n",
       "SLV                       -0.903571  \n",
       "VEN                       -1.100000  "
      ]
     },
     "execution_count": 14,
     "metadata": {},
     "output_type": "execute_result"
    }
   ],
   "source": [
    "# The trends for each country for each indicator\n",
    "# This is showing the same results as the original file.\n",
    "trends"
   ]
  },
  {
   "cell_type": "code",
   "execution_count": 15,
   "metadata": {
    "collapsed": true,
    "deletable": true,
    "editable": true
   },
   "outputs": [],
   "source": [
    "trends.columns = trends.columns.map(lambda x: \"trend_\" + x)"
   ]
  },
  {
   "cell_type": "code",
   "execution_count": 16,
   "metadata": {
    "collapsed": true,
    "deletable": true,
    "editable": true
   },
   "outputs": [],
   "source": [
    "trends = pd.concat([trends, gt2[gt2.index.get_level_values(1) < 2007].groupby(level=[0]).mean()], axis = 1)"
   ]
  },
  {
   "cell_type": "code",
   "execution_count": 17,
   "metadata": {
    "collapsed": true,
    "deletable": true,
    "editable": true
   },
   "outputs": [],
   "source": [
    "trends.to_csv(\"trends.csv\")"
   ]
  },
  {
   "cell_type": "code",
   "execution_count": 18,
   "metadata": {},
   "outputs": [],
   "source": [
    "gt2.to_csv(\"data_time_series.csv\")"
   ]
  },
  {
   "cell_type": "markdown",
   "metadata": {},
   "source": [
    "# Comparing Guatemala with the Synthetic Control\n",
    "\n",
    "Now reading the weights generated by ebalance package in R\n"
   ]
  },
  {
   "cell_type": "code",
   "execution_count": 19,
   "metadata": {},
   "outputs": [],
   "source": [
    "ebal_st = pd.read_csv(\"./ebalanced_stata.csv\", index_col=0)\n",
    "ebal_st.loc[\"GTM\"] = 1\n",
    "ebal_st.columns = [\"ebal_st\"]\n",
    "ebal_R = pd.read_csv(\"./ebalanced.csv\", index_col=0)\n",
    "ebal_R.loc[\"GTM\"] = 1\n",
    "ebal_R.columns = [\"ebal_R\"]"
   ]
  },
  {
   "cell_type": "code",
   "execution_count": 61,
   "metadata": {},
   "outputs": [],
   "source": [
    "gt3 = gt2.reset_index()\n",
    "gt3 = gt2.merge(ebal_st, left_on=\"Country Code\", right_index=True).reset_index()\n",
    "gt3 = gt3.merge(ebal_R, left_on=\"level_0\", right_index=True)\n",
    "gt3[\"logHom\"] = np.log10(gt3.homicide)\n",
    "gt3[\"Treatment\"] = gt3.level_0 == \"GTM\""
   ]
  },
  {
   "cell_type": "code",
   "execution_count": 65,
   "metadata": {},
   "outputs": [],
   "source": [
    "def wmean(df, m, w):\n",
    "    return df[m].multiply(df[w]).sum() / \\\n",
    "                df[w][df[m].notna()].sum()\n",
    "\n",
    "# TEST\n",
    "# wmean(gt3[gt3.level_0 == \"GTM\"], \"homicide\", \"ebal_st\" ), gt3[gt3.level_0 == \"GTM\"].homicide.mean()\n"
   ]
  },
  {
   "cell_type": "code",
   "execution_count": 64,
   "metadata": {},
   "outputs": [
    {
     "name": "stderr",
     "output_type": "stream",
     "text": [
      "C:\\Anaconda3\\lib\\site-packages\\ipykernel_launcher.py:2: RuntimeWarning: invalid value encountered in double_scalars\n",
      "  \n"
     ]
    }
   ],
   "source": [
    "avgCols = ['logHom','adult_literacy_rate', 'gdp_per_capita_ppp_2011', 'homicide',\n",
    "        'household_consumption', 'poverty_headcount_320',\n",
    "        'under5_mortality_rate', 'youth_literacy_rate']\n",
    "gt4_st = gt3.groupby([\"Treatment\", \"level_1\"]).apply(\n",
    "    lambda x: pd.Series([ wmean(x, col, \"ebal_st\") for col in avgCols ], avgCols) )\n",
    "gt4_R  = gt3.groupby([\"Treatment\", \"level_1\"]).apply(\n",
    "    lambda x: pd.Series([ wmean(x, col, \"ebal_R\") for col in avgCols ], avgCols) )"
   ]
  },
  {
   "cell_type": "code",
   "execution_count": 121,
   "metadata": {},
   "outputs": [
    {
     "data": {
      "image/png": "[encoded data removed]",
      "text/plain": [
       "<Figure size 720x360 with 2 Axes>"
      ]
     },
     "metadata": {},
     "output_type": "display_data"
    }
   ],
   "source": [
    "gt4_st[\"prepost\"] = gt4_st.index.get_level_values(1).map(lambda x: (\"pre\" if x<2007 else \"post\"), 1)\n",
    "sbs.lmplot(\"level_1\", \"homicide\", gt4_st[gt4_st.index.get_level_values(1).isin(list(range(2000, 2015)))]\\\n",
    "               .reset_index(), \"Treatment\", col = \"prepost\", sharex=False, legend_out=False)\n",
    "# Finally, getting the same graph that CrisisGroup obtained in stata, of course, using their ebalance results.\n",
    "plt.suptitle(\"Compare Pre-Post CICIG scenarios for homicides\\nwith Stata ebalance weights\")\n",
    "plt.tight_layout(4.5)"
   ]
  },
  {
   "cell_type": "code",
   "execution_count": 120,
   "metadata": {},
   "outputs": [
    {
     "data": {
      "text/plain": [
       "<seaborn.axisgrid.FacetGrid at 0x22afd630>"
      ]
     },
     "execution_count": 120,
     "metadata": {},
     "output_type": "execute_result"
    },
    {
     "data": {
      "image/png": "[encoded data removed]",
      "text/plain": [
       "<Figure size 720x360 with 2 Axes>"
      ]
     },
     "metadata": {},
     "output_type": "display_data"
    }
   ],
   "source": [
    "axs = sbs.lmplot(\"level_1\", \"logHom\", gt4_st[gt4_st.index.get_level_values(1).isin(list(range(2000, 2015)))]\\\n",
    "               .reset_index(), \"Treatment\", col = \"prepost\", sharex=False, legend_out=False)\n",
    "plt.suptitle(\"Compare Pre-Post CICIG scenarios for log(homicides)\\nwith Stata ebalance weights\")\n",
    "plt.tight_layout(4.5)\n",
    "axs.set_yticklabels(np.power(10, a.get_yticks()).round())"
   ]
  },
  {
   "cell_type": "code",
   "execution_count": 122,
   "metadata": {},
   "outputs": [
    {
     "data": {
      "image/png": "[encoded data removed]",
      "text/plain": [
       "<Figure size 720x360 with 2 Axes>"
      ]
     },
     "metadata": {},
     "output_type": "display_data"
    }
   ],
   "source": [
    "gt4_R[\"prepost\"] = gt4_R.index.get_level_values(1).map(lambda x: (\"pre\" if x<2007 else \"post\"), 1)\n",
    "sbs.lmplot(\"level_1\", \"logHom\", gt4_R[gt4_R.index.get_level_values(1).isin(list(range(2000, 2015)))]\\\n",
    "               .reset_index(), \"Treatment\", col = \"prepost\", sharex=False, legend_out=False)\n",
    "plt.suptitle(\"Compare Pre-Post CICIG scenarios for log(homicides)\\nwith R ebalance weights\")\n",
    "plt.tight_layout(4.5)"
   ]
  },
  {
   "cell_type": "code",
   "execution_count": 204,
   "metadata": {},
   "outputs": [
    {
     "name": "stdout",
     "output_type": "stream",
     "text": [
      "                 Generalized Linear Model Regression Results                  \n",
      "==============================================================================\n",
      "Dep. Variable:               homicide   No. Observations:                   30\n",
      "Model:                            GLM   Df Residuals:                       13\n",
      "Model Family:                Gaussian   Df Model:                           16\n",
      "Link Function:               identity   Scale:                          19.182\n",
      "Method:                          IRLS   Log-Likelihood:                -74.334\n",
      "Date:                Mon, 21 Jan 2019   Deviance:                       249.37\n",
      "Time:                        11:03:36   Pearson chi2:                     249.\n",
      "No. Iterations:                     3   Covariance Type:             nonrobust\n",
      "======================================================================================\n",
      "                         coef    std err          z      P>|z|      [0.025      0.975]\n",
      "--------------------------------------------------------------------------------------\n",
      "Intercept             30.5562      0.995     30.703      0.000      28.606      32.507\n",
      "C(level_1)[T.2000]    -4.7812      2.903     -1.647      0.100     -10.471       0.908\n",
      "C(level_1)[T.2001]    -4.3009      2.903     -1.482      0.138      -9.990       1.388\n",
      "C(level_1)[T.2002]    -2.7105      2.903     -0.934      0.350      -8.400       2.979\n",
      "C(level_1)[T.2003]     0.1981      2.903      0.068      0.946      -5.491       5.888\n",
      "C(level_1)[T.2004]     3.4484      2.903      1.188      0.235      -2.241       9.138\n",
      "C(level_1)[T.2005]    10.9312      3.983      2.745      0.006       3.125      18.737\n",
      "C(level_1)[T.2006]    12.1049      2.903      4.170      0.000       6.416      17.794\n",
      "C(level_1)[T.2007]    -4.7181      2.947     -1.601      0.109     -10.494       1.058\n",
      "C(level_1)[T.2008]    -4.1336      2.947     -1.403      0.161      -9.910       1.643\n",
      "C(level_1)[T.2009]     1.1111      2.947      0.377      0.706      -4.665       6.887\n",
      "C(level_1)[T.2010]    -2.6358      2.947     -0.894      0.371      -8.412       3.140\n",
      "C(level_1)[T.2011]    -2.5075      2.947     -0.851      0.395      -8.284       3.269\n",
      "C(level_1)[T.2012]   -12.2260      2.947     -4.148      0.000     -18.002      -6.450\n",
      "C(level_1)[T.2013]    -7.3064      2.947     -2.479      0.013     -13.083      -1.530\n",
      "C(level_1)[T.2014]    -5.2504      2.947     -1.782      0.075     -11.027       0.526\n",
      "C(level_1)[T.2015]    53.3329      4.133     12.906      0.000      45.233      61.432\n",
      "C(level_1)[T.2016]          0          0        nan        nan           0           0\n",
      "C(level_1)[T.2017]  2.741e-18   1.72e-16      0.016      0.987   -3.34e-16     3.4e-16\n",
      "After                 15.6662      1.476     10.612      0.000      12.773      18.560\n",
      "Tx:After              -3.0140      2.190     -1.376      0.169      -7.306       1.278\n",
      "======================================================================================\n"
     ]
    },
    {
     "name": "stderr",
     "output_type": "stream",
     "text": [
      "C:\\Anaconda3\\lib\\site-packages\\statsmodels\\base\\model.py:1100: RuntimeWarning: invalid value encountered in true_divide\n",
      "  return self.params / self.bse\n",
      "C:\\Anaconda3\\lib\\site-packages\\scipy\\stats\\_distn_infrastructure.py:879: RuntimeWarning: invalid value encountered in greater\n",
      "  return (self.a < x) & (x < self.b)\n",
      "C:\\Anaconda3\\lib\\site-packages\\scipy\\stats\\_distn_infrastructure.py:879: RuntimeWarning: invalid value encountered in less\n",
      "  return (self.a < x) & (x < self.b)\n",
      "C:\\Anaconda3\\lib\\site-packages\\scipy\\stats\\_distn_infrastructure.py:1821: RuntimeWarning: invalid value encountered in less_equal\n",
      "  cond2 = cond0 & (x <= self.a)\n"
     ]
    }
   ],
   "source": [
    "gt4_R[\"Tx\"] = gt4_R.index.get_level_values(0).astype(int)\n",
    "gt4_R[\"After\"] = (gt4_R[\"prepost\"] == \"post\").astype(int)\n",
    "reg = stm.GLM.from_formula(\"homicide ~ After + Tx*After - Tx+ C(level_1)\", gt4_R.reset_index())\n",
    "fit = reg.fit()\n",
    "print(fit.summary())"
   ]
  },
  {
   "cell_type": "code",
   "execution_count": 205,
   "metadata": {},
   "outputs": [
    {
     "name": "stdout",
     "output_type": "stream",
     "text": [
      "Net avoided homicides (using R ebalance and Python GLM)\n"
     ]
    },
    {
     "data": {
      "text/plain": [
       "-5067.841139865544"
      ]
     },
     "execution_count": 205,
     "metadata": {},
     "output_type": "execute_result"
    }
   ],
   "source": [
    "print(\"Net avoided homicides (using R ebalance and Python GLM)\")\n",
    "(gtpop.GTM_pop100k * fit.params[\"Tx:After\"]).sum()"
   ]
  },
  {
   "cell_type": "code",
   "execution_count": 206,
   "metadata": {},
   "outputs": [
    {
     "name": "stdout",
     "output_type": "stream",
     "text": [
      "                 Generalized Linear Model Regression Results                  \n",
      "==============================================================================\n",
      "Dep. Variable:               homicide   No. Observations:                   30\n",
      "Model:                            GLM   Df Residuals:                       13\n",
      "Model Family:                Gaussian   Df Model:                           16\n",
      "Link Function:               identity   Scale:                          16.159\n",
      "Method:                          IRLS   Log-Likelihood:                -71.761\n",
      "Date:                Mon, 21 Jan 2019   Deviance:                       210.06\n",
      "Time:                        11:03:44   Pearson chi2:                     210.\n",
      "No. Iterations:                     3   Covariance Type:             nonrobust\n",
      "======================================================================================\n",
      "                         coef    std err          z      P>|z|      [0.025      0.975]\n",
      "--------------------------------------------------------------------------------------\n",
      "Intercept             30.0014      0.913     32.845      0.000      28.211      31.792\n",
      "C(level_1)[T.2000]    -3.7666      2.664     -1.414      0.157      -8.988       1.455\n",
      "C(level_1)[T.2001]    -3.0487      2.664     -1.144      0.252      -8.270       2.173\n",
      "C(level_1)[T.2002]    -1.3431      2.664     -0.504      0.614      -6.565       3.879\n",
      "C(level_1)[T.2003]     1.4380      2.664      0.540      0.589      -3.784       6.660\n",
      "C(level_1)[T.2004]     3.6311      2.664      1.363      0.173      -1.591       8.853\n",
      "C(level_1)[T.2005]     8.5625      3.655      2.342      0.019       1.398      15.727\n",
      "C(level_1)[T.2006]    11.2437      2.664      4.220      0.000       6.022      16.465\n",
      "C(level_1)[T.2007]    -2.8826      2.705     -1.066      0.287      -8.184       2.419\n",
      "C(level_1)[T.2008]    -1.4840      2.705     -0.549      0.583      -6.785       3.817\n",
      "C(level_1)[T.2009]     3.1483      2.705      1.164      0.244      -2.153       8.450\n",
      "C(level_1)[T.2010]    -0.0265      2.705     -0.010      0.992      -5.328       5.275\n",
      "C(level_1)[T.2011]     0.1406      2.705      0.052      0.959      -5.161       5.442\n",
      "C(level_1)[T.2012]    -8.0672      2.705     -2.982      0.003     -13.369      -2.766\n",
      "C(level_1)[T.2013]    -5.6510      2.705     -2.089      0.037     -10.952      -0.349\n",
      "C(level_1)[T.2014]    -4.0687      2.705     -1.504      0.133      -9.370       1.233\n",
      "C(level_1)[T.2015]    32.1757      3.793      8.483      0.000      24.742      39.610\n",
      "C(level_1)[T.2016]          0          0        nan        nan           0           0\n",
      "C(level_1)[T.2017] -8.092e-18   1.58e-16     -0.051      0.959   -3.17e-16    3.01e-16\n",
      "After                 13.2846      1.355      9.804      0.000      10.629      15.940\n",
      "Tx:After              -2.4246      2.010     -1.206      0.228      -6.364       1.515\n",
      "======================================================================================\n"
     ]
    },
    {
     "name": "stderr",
     "output_type": "stream",
     "text": [
      "C:\\Anaconda3\\lib\\site-packages\\statsmodels\\base\\model.py:1100: RuntimeWarning: invalid value encountered in true_divide\n",
      "  return self.params / self.bse\n",
      "C:\\Anaconda3\\lib\\site-packages\\scipy\\stats\\_distn_infrastructure.py:879: RuntimeWarning: invalid value encountered in greater\n",
      "  return (self.a < x) & (x < self.b)\n",
      "C:\\Anaconda3\\lib\\site-packages\\scipy\\stats\\_distn_infrastructure.py:879: RuntimeWarning: invalid value encountered in less\n",
      "  return (self.a < x) & (x < self.b)\n",
      "C:\\Anaconda3\\lib\\site-packages\\scipy\\stats\\_distn_infrastructure.py:1821: RuntimeWarning: invalid value encountered in less_equal\n",
      "  cond2 = cond0 & (x <= self.a)\n"
     ]
    }
   ],
   "source": [
    "gt4_st[\"Tx\"] = gt4_st.index.get_level_values(0).astype(int)\n",
    "gt4_st[\"After\"] = (gt4_st[\"prepost\"] == \"post\").astype(int)\n",
    "reg = stm.GLM.from_formula(\"homicide ~ After + Tx*After - Tx + C(level_1)\", gt4_st.reset_index())\n",
    "fit = reg.fit()\n",
    "print(fit.summary())"
   ]
  },
  {
   "cell_type": "code",
   "execution_count": 208,
   "metadata": {},
   "outputs": [
    {
     "name": "stdout",
     "output_type": "stream",
     "text": [
      "Net avoided homicides (using Stata ebalance and Python GLM)\n"
     ]
    },
    {
     "data": {
      "text/plain": [
       "-4076.822395277368"
      ]
     },
     "execution_count": 208,
     "metadata": {},
     "output_type": "execute_result"
    }
   ],
   "source": [
    "print(\"Net avoided homicides (using Stata ebalance and Python GLM)\")\n",
    "(gtpop.GTM_pop100k * fit.params[\"Tx:After\"]).sum()\n",
    "# Crisis Group result in using stata GLM with robust variance is  4658 "
   ]
  },
  {
   "cell_type": "code",
   "execution_count": null,
   "metadata": {},
   "outputs": [],
   "source": []
  }
 ],
 "metadata": {
  "kernelspec": {
   "display_name": "Python 3",
   "language": "python",
   "name": "python3"
  },
  "language_info": {
   "codemirror_mode": {
    "name": "ipython",
    "version": 3
   },
   "file_extension": ".py",
   "mimetype": "text/x-python",
   "name": "python",
   "nbconvert_exporter": "python",
   "pygments_lexer": "ipython3",
   "version": "3.5.1"
  }
 },
 "nbformat": 4,
 "nbformat_minor": 2
}
